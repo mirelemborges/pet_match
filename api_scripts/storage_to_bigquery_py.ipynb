{
 "cells": [
  {
   "cell_type": "code",
   "execution_count": 1,
   "id": "7c5db587",
   "metadata": {},
   "outputs": [],
   "source": [
    "# packages\n",
    "from datetime import datetime, timedelta\n",
    "from google.cloud import storage \n",
    "from google.cloud import bigquery\n",
    "from os import environ\n",
    "from google.cloud.bigquery.table import TableReference\n",
    "import pandas as pd\n",
    "import time\n",
    "import os\n",
    "os.environ[\"GOOGLE_APPLICATION_CREDENTIALS\"]=\"C:/Users/mirel/OneDrive/Documents/git_projects/pet_match/crendentials/pet-match-378611-6b43fb1dc6ee-service-account.json\"\n",
    "g_cred = environ.get(\"GOOGLE_APPLICATION_CREDENTIALS\")"
   ]
  },
  {
   "cell_type": "code",
   "execution_count": 2,
   "id": "ed752397",
   "metadata": {},
   "outputs": [],
   "source": [
    "## listing files in the bucket\n",
    "storage_client = storage.Client()\n",
    "\n",
    "bucket = storage_client.get_bucket('api_return')\n",
    "\n",
    "blobs = bucket.list_blobs()\n",
    "\n",
    "list_files = []\n",
    "\n",
    "for blob in blobs:\n",
    "    list_files.append(blob.name)"
   ]
  },
  {
   "cell_type": "code",
   "execution_count": 3,
   "id": "7eb9e635",
   "metadata": {},
   "outputs": [],
   "source": [
    "# getting dates/dataset_name/table_name form the folders names\n",
    "dates = []             \n",
    "table_name = []\n",
    "for z in list_files:\n",
    "    dates.append(datetime.strptime(z.split('/')[0], '%Y-%m-%d'))\n",
    "    table_name.append(z.split('/')[1][:-4])\n",
    "\n",
    "# getting max\n",
    "max_date = max(dates).strftime('%Y-%m-%d')\n",
    "\n",
    "# create a data frame\n",
    "df = pd.DataFrame({\n",
    "    'list_files': list_files,\n",
    "    'dates': dates,\n",
    "    'table_name': table_name\n",
    "    })"
   ]
  },
  {
   "cell_type": "code",
   "execution_count": 4,
   "id": "e7ccdfea",
   "metadata": {},
   "outputs": [],
   "source": [
    "# filtering the df by the max date \n",
    "df_filter = df[df['dates']==max_date]\n",
    "\n",
    "\n",
    "## send the csv from Storage to Big Query\n",
    "client = bigquery.Client()"
   ]
  },
  {
   "cell_type": "code",
   "execution_count": 5,
   "id": "9fccd670",
   "metadata": {},
   "outputs": [
    {
     "data": {
      "text/plain": [
       "'DONE'"
      ]
     },
     "execution_count": 5,
     "metadata": {},
     "output_type": "execute_result"
    }
   ],
   "source": [
    "# table ID\n",
    "table_id = 'pet-match-378611.pet_match.adoption_list_table'\n",
    "\n",
    "# delete the table\n",
    "client.delete_table(table_id, not_found_ok = True)\n",
    "            \n",
    "# saving the csv into Big Query\n",
    "job_config = bigquery.LoadJobConfig(\n",
    "    source_format = bigquery.SourceFormat.CSV, \n",
    "    skip_leading_rows = 1, \n",
    "    autodetect = True,\n",
    "    allow_quoted_newlines = True\n",
    ")\n",
    "\n",
    "job = client.load_table_from_uri(\n",
    "    [\"gs://\" + 'api_return' + \"/\" + df_filter['list_files'].iloc[0]],\n",
    "    table_id,\n",
    "    job_config = job_config\n",
    ")\n",
    "job.result()\n",
    "client.close()\n",
    "job.state"
   ]
  }
 ],
 "metadata": {
  "kernelspec": {
   "display_name": "Python 3 (ipykernel)",
   "language": "python",
   "name": "python3"
  },
  "language_info": {
   "codemirror_mode": {
    "name": "ipython",
    "version": 3
   },
   "file_extension": ".py",
   "mimetype": "text/x-python",
   "name": "python",
   "nbconvert_exporter": "python",
   "pygments_lexer": "ipython3",
   "version": "3.9.7"
  }
 },
 "nbformat": 4,
 "nbformat_minor": 5
}
